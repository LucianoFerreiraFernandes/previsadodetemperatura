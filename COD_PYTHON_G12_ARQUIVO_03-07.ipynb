{
 "cells": [
  {
   "cell_type": "markdown",
   "metadata": {},
   "source": [
    "# ETL 03 - Scripts Area Stage SQL - Geolocalizacao\n",
    "    Objetivo: Popular a tabelas TOiSTG_CidadeGeoLocalizacao no banco DSTGOiMasterDados\n",
    "    Desenvolvedor: Marcelo Muniz de Alencar"
   ]
  },
  {
   "cell_type": "code",
   "execution_count": 1,
   "metadata": {},
   "outputs": [
    {
     "name": "stderr",
     "output_type": "stream",
     "text": [
      "ERROR: Invalid requirement: '#'\n",
      "\n"
     ]
    }
   ],
   "source": [
    "!pip install geopy # instalar geopy"
   ]
  },
  {
   "cell_type": "code",
   "execution_count": 2,
   "metadata": {},
   "outputs": [
    {
     "name": "stderr",
     "output_type": "stream",
     "text": [
      "C:\\ProgramData\\Anaconda3\\lib\\site-packages\\setuptools\\_importlib.py:23: UserWarning: `importlib-metadata` version is incompatible with `setuptools`.\n",
      "This problem is likely to be solved by installing an updated version of `importlib-metadata`.\n",
      "  warnings.warn(msg)  # Ensure a descriptive message is shown.\n",
      "C:\\ProgramData\\Anaconda3\\lib\\site-packages\\pandas\\compat\\_optional.py:138: UserWarning: Pandas requires version '2.7.0' or newer of 'numexpr' (version '2.6.9' currently installed).\n",
      "  warnings.warn(msg, UserWarning)\n"
     ]
    }
   ],
   "source": [
    "from geopy.geocoders import Nominatim\n",
    "import pyodbc\n",
    "import pandas as pd\n",
    "\n",
    "import warnings\n",
    "warnings.filterwarnings(\"ignore\")"
   ]
  },
  {
   "cell_type": "code",
   "execution_count": 3,
   "metadata": {},
   "outputs": [
    {
     "ename": "OperationalError",
     "evalue": "('08001', '[08001] [Microsoft][ODBC SQL Server Driver][DBNETLIB]SQL Server inexistente ou acesso negado. (17) (SQLDriverConnect); [08001] [Microsoft][ODBC SQL Server Driver][DBNETLIB]ConnectionOpen (Connect()). (53)')",
     "output_type": "error",
     "traceback": [
      "\u001b[1;31m---------------------------------------------------------------------------\u001b[0m",
      "\u001b[1;31mOperationalError\u001b[0m                          Traceback (most recent call last)",
      "\u001b[1;32m<ipython-input-3-0b2235ace8a5>\u001b[0m in \u001b[0;36m<module>\u001b[1;34m\u001b[0m\n\u001b[1;32m----> 1\u001b[1;33m \u001b[0mconnection\u001b[0m \u001b[1;33m=\u001b[0m \u001b[0mpyodbc\u001b[0m\u001b[1;33m.\u001b[0m\u001b[0mconnect\u001b[0m\u001b[1;33m(\u001b[0m\u001b[1;34m\"Driver={SQL Server};Server=PCMARCELO\\\\SQLEXPRESS;Database=DSTG_OiMasterDados;Trusted_Connection=yes;\"\u001b[0m\u001b[1;33m)\u001b[0m\u001b[1;33m\u001b[0m\u001b[1;33m\u001b[0m\u001b[0m\n\u001b[0m\u001b[0;32m      2\u001b[0m sql = ''' SELECT  NumCidade,\n\u001b[0;32m      3\u001b[0m                   \u001b[0mcase\u001b[0m \u001b[0mwhen\u001b[0m \u001b[0mrtrim\u001b[0m\u001b[1;33m(\u001b[0m\u001b[0mltrim\u001b[0m\u001b[1;33m(\u001b[0m\u001b[0mEstado\u001b[0m\u001b[1;33m)\u001b[0m\u001b[1;33m)\u001b[0m \u001b[1;33m<\u001b[0m\u001b[1;33m>\u001b[0m \u001b[1;34m''\u001b[0m\u001b[1;33m\u001b[0m\u001b[1;33m\u001b[0m\u001b[0m\n\u001b[0;32m      4\u001b[0m                         \u001b[0mthen\u001b[0m \u001b[0mCidade\u001b[0m \u001b[1;33m+\u001b[0m \u001b[1;34m', '\u001b[0m \u001b[1;33m+\u001b[0m \u001b[0mEstado\u001b[0m \u001b[1;33m+\u001b[0m \u001b[1;34m', '\u001b[0m\u001b[1;33m+\u001b[0m \u001b[0mPais\u001b[0m\u001b[1;33m\u001b[0m\u001b[1;33m\u001b[0m\u001b[0m\n\u001b[0;32m      5\u001b[0m                         \u001b[1;32melse\u001b[0m \u001b[0mCidade\u001b[0m \u001b[1;33m+\u001b[0m \u001b[1;34m', '\u001b[0m \u001b[1;33m+\u001b[0m \u001b[0mPais\u001b[0m\u001b[1;33m\u001b[0m\u001b[1;33m\u001b[0m\u001b[0m\n",
      "\u001b[1;31mOperationalError\u001b[0m: ('08001', '[08001] [Microsoft][ODBC SQL Server Driver][DBNETLIB]SQL Server inexistente ou acesso negado. (17) (SQLDriverConnect); [08001] [Microsoft][ODBC SQL Server Driver][DBNETLIB]ConnectionOpen (Connect()). (53)')"
     ]
    }
   ],
   "source": [
    "connection = pyodbc.connect(\"Driver={SQL Server};Server=PCMARCELO\\\\SQLEXPRESS;Database=DSTG_OiMasterDados;Trusted_Connection=yes;\") \n",
    "sql = ''' SELECT  NumCidade,\n",
    "                  case when rtrim(ltrim(Estado)) <> ''\n",
    "                        then Cidade + ', ' + Estado + ', '+ Pais\n",
    "                        else Cidade + ', ' + Pais\n",
    "                  end as Localizacao\n",
    "          FROM OiMasterDados.TOiSTG_Cidade (NOLOCK) \n",
    "          ORDER BY NumCidade '''\n",
    "df = pd.read_sql(sql,connection)\n",
    "\n",
    "listaLocalizacao = df['Localizacao'].tolist() # criar lista\n",
    "listaLocalizacao"
   ]
  },
  {
   "cell_type": "code",
   "execution_count": null,
   "metadata": {
    "scrolled": true
   },
   "outputs": [],
   "source": [
    "# Initialize Nominatim API\n",
    "geolocator = Nominatim(user_agent=\"MyApp\")\n",
    "\n",
    "cursor = connection.cursor()\n",
    "cursor.execute('DELETE FROM [DSTG_OiMasterDados].[OiMasterDados].[TOiSTG_CidadeGeoLocalizacao]')\n",
    "connection.commit()\n",
    "\n",
    "for i in listaLocalizacao:\n",
    "    try:\n",
    "        location = geolocator.geocode(i)\n",
    "        #print(i) \n",
    "        #print(str(location.latitude) + ',' + str(location.longitude))\n",
    "        sqlInsert =  ''' INSERT INTO [OiMasterDados].[TOiSTG_CidadeGeoLocalizacao]\n",
    "                               ([Localizacao]\n",
    "                               ,[ValLatitude]\n",
    "                               ,[ValLongitude])\n",
    "                         VALUES\n",
    "                           ( ''' + \"'\" + i + \"'\" + ', ' + str(location.latitude) + ', ' + str(location.longitude) + ')' \n",
    "        #print(sqlInsert)\n",
    "        cursor.execute(sqlInsert)\n",
    "        connection.commit()\n",
    "    except:\n",
    "        print(\"Erro na cidade \" + i)"
   ]
  },
  {
   "cell_type": "code",
   "execution_count": null,
   "metadata": {},
   "outputs": [],
   "source": [
    "sql2 = ''' SELECT  case when T1.[Cidade] = 'Montvideo' \n",
    "                            then 'Montevideo' \n",
    "                            else T1.[Cidade]\n",
    "                    end as Localizacao\n",
    "            FROM  [DSTG_OiMasterdados].[OiMasterDados].[TOiSTG_Cidade] AS T1 (NOLOCK) \n",
    "                        left outer join\n",
    "                  [DSTG_OiMasterdados].[OiMasterDados].[TOiSTG_CidadeGeoLocalizacao] AS T2 (NOLOCK)\n",
    "                        on (case when rtrim(ltrim(T1.Estado)) <> ''\n",
    "                                    then T1.Cidade + ', ' + T1.Estado + ', '+ T1.Pais\n",
    "                                    else T1.Cidade + ', ' + T1.Pais\n",
    "                            end) = T2.Localizacao\n",
    "            WHERE T2.Localizacao is null '''\n",
    "df2 = pd.read_sql(sql2,connection)\n",
    "\n",
    "listaLocalizacao2 = df2['Localizacao'].tolist() # criar lista\n",
    "listaLocalizacao2"
   ]
  },
  {
   "cell_type": "code",
   "execution_count": null,
   "metadata": {},
   "outputs": [],
   "source": [
    "# Initialize Nominatim API\n",
    "geolocator = Nominatim(user_agent=\"MyApp\")\n",
    "\n",
    "for i in listaLocalizacao2:\n",
    "    try:\n",
    "        location2 = geolocator.geocode(i)\n",
    "        #print(i) \n",
    "        #print(str(location2.latitude) + ',' + str(location2.longitude))\n",
    "        sqlInsert2 =  ''' INSERT INTO [OiMasterDados].[TOiSTG_CidadeGeoLocalizacao]\n",
    "                               ([Localizacao]\n",
    "                               ,[ValLatitude]\n",
    "                               ,[ValLongitude])\n",
    "                         VALUES\n",
    "                           ( ''' + \"'\" + i + \"'\" + ', ' + str(location2.latitude) + ', ' + str(location2.longitude) + ')' \n",
    "        #print(sqlInsert2)\n",
    "        cursor.execute(sqlInsert2)\n",
    "        connection.commit()\n",
    "    except:\n",
    "        print(\"Erro na cidade \" + i)"
   ]
  },
  {
   "cell_type": "markdown",
   "metadata": {},
   "source": [
    "## FIM"
   ]
  }
 ],
 "metadata": {
  "kernelspec": {
   "display_name": "Python 3",
   "language": "python",
   "name": "python3"
  },
  "language_info": {
   "codemirror_mode": {
    "name": "ipython",
    "version": 3
   },
   "file_extension": ".py",
   "mimetype": "text/x-python",
   "name": "python",
   "nbconvert_exporter": "python",
   "pygments_lexer": "ipython3",
   "version": "3.7.3"
  }
 },
 "nbformat": 4,
 "nbformat_minor": 4
}
